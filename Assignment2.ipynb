{
 "cells": [
  {
   "cell_type": "markdown",
   "metadata": {},
   "source": [
    "Task 1:\n",
    "1.1"
   ]
  },
  {
   "cell_type": "code",
   "execution_count": 53,
   "metadata": {},
   "outputs": [
    {
     "name": "stdout",
     "output_type": "stream",
     "text": [
      "87\n",
      "j#a#t#i#n\n"
     ]
    }
   ],
   "source": [
    "def myreduce(a_function,a_iterable):\n",
    "    reduced_version=a_iterable[0]\n",
    "    \n",
    "    for item in a_iterable[1:] :  # Starting from 1st index as 0th index is already included\n",
    "        reduced_version=a_function(reduced_version,item)\n",
    "        \n",
    "    return reduced_version\n",
    "\n",
    "array=[23,5,-5,87,43,11]\n",
    "print(myreduce(lambda x,y:x if x>y else y,array))\n",
    "\n",
    "name='jatin'\n",
    "print(myreduce(lambda x,y: x+'#'+y,name))\n"
   ]
  },
  {
   "cell_type": "markdown",
   "metadata": {},
   "source": [
    "Task1:1.2"
   ]
  },
  {
   "cell_type": "code",
   "execution_count": 76,
   "metadata": {},
   "outputs": [
    {
     "name": "stdout",
     "output_type": "stream",
     "text": [
      "[2, 4, 6, 8, 10, 12, 14, 16, 18, 20]\n",
      "['o', 'e']\n"
     ]
    }
   ],
   "source": [
    "def myfilter(a_function,iterable):\n",
    "    filtered_result=list()\n",
    "    for item in iterable:\n",
    "        if(a_function(item)==True):\n",
    "            filtered_result.append(item)\n",
    "    return filtered_result\n",
    "\n",
    "array1=[1,2,3,4,5,6,7,8,9,10,11,12,13,14,15,16,17,18,19,20]\n",
    "print(myfilter(lambda x: True if x%2==0 else False , array1))\n",
    "\n",
    "array2=['o','z','s','e','q','m']\n",
    "#below function filter vowels form the list\n",
    "print(myfilter(lambda x: True if x in ['a','e','i','o','u'] else False,array2))\n"
   ]
  },
  {
   "cell_type": "markdown",
   "metadata": {},
   "source": [
    "Task1: Problem 2"
   ]
  },
  {
   "cell_type": "code",
   "execution_count": 65,
   "metadata": {
    "scrolled": true
   },
   "outputs": [
    {
     "name": "stdout",
     "output_type": "stream",
     "text": [
      "['A', 'C', 'A', 'D', 'G', 'I', 'L', 'D']\n",
      "['x', 'xx', 'xxx', 'xxxx', 'y', 'yy', 'yyy', 'yyyy', 'z', 'zz', 'zzz', 'zzzz']\n",
      "['x', 'y', 'z', 'xx', 'yy', 'zz', 'xxx', 'yyy', 'zzz', 'xxxx', 'yyyy', 'zzzz']\n",
      "[[2], [3], [4], [3], [4], [5], [4], [5], [6]]\n",
      "[[2, 3, 4, 5], [3, 4, 5, 6], [4, 5, 6, 7], [5, 6, 7, 8]]\n",
      "[(1, 1), (2, 1), (3, 1), (1, 2), (2, 2), (3, 2), (1, 3), (2, 3), (3, 3)]\n"
     ]
    }
   ],
   "source": [
    "#1\n",
    "print(list(x for x in 'ACADGILD'))\n",
    "#2\n",
    "print(list((x*i for x in 'xyz'  for i in range(1,5))))\n",
    "#3\n",
    "print(list(x*i for i in range(1,5) for x in 'xyz' ))\n",
    "#4\n",
    "print(list([int(i)] for i in '234345456'))\n",
    "#5\n",
    "print(list([i,i+1,i+2,i+3] for i in range(2,6)))\n",
    "#6\n",
    "print(list((y,x) for x in range(1,4) for y in range(1,4)))"
   ]
  },
  {
   "cell_type": "markdown",
   "metadata": {},
   "source": [
    "Task 1: Problem 3"
   ]
  },
  {
   "cell_type": "code",
   "execution_count": 43,
   "metadata": {},
   "outputs": [
    {
     "name": "stdout",
     "output_type": "stream",
     "text": [
      "['Watermelon']\n",
      "['aa']\n",
      "['abc', 'bef', 'cff']\n"
     ]
    }
   ],
   "source": [
    "def longestWord(list_of_words):\n",
    "    max_len=0\n",
    "    max_word=list()\n",
    "    for word in list_of_words :\n",
    "        if len(word)>=max_len:\n",
    "            if len(word) != max_len:\n",
    "                max_word.clear()\n",
    "            max_len=len(word)\n",
    "            max_word.append(word)\n",
    "    return max_word\n",
    "\n",
    "print(longestWord(['Apple','Banana','Orange','Watermelon']))\n",
    "print(longestWord(['a','b','c','d','e','aa']))\n",
    "print(longestWord(['abc','bef','cff','dt','ew','a']))\n",
    "\n"
   ]
  },
  {
   "cell_type": "markdown",
   "metadata": {},
   "source": [
    "Task 2: Problem 1.1"
   ]
  },
  {
   "cell_type": "code",
   "execution_count": 30,
   "metadata": {},
   "outputs": [
    {
     "name": "stdout",
     "output_type": "stream",
     "text": [
      "0.4330127018922193\n",
      "6.0\n"
     ]
    }
   ],
   "source": [
    "class Parent:\n",
    "    def take_input(self,side1,side2,side3):\n",
    "        self.side1=side1\n",
    "        self.side2=side2\n",
    "        self.side3=side3\n",
    "    \n",
    "class child(Parent):\n",
    "    def __init__(self,*args):\n",
    "        super().take_input(*args)\n",
    "    \n",
    "    def answer(self):\n",
    "        s= (self.side1+self.side2+self.side3)/2\n",
    "        return (s*(s-self.side1)*(s-self.side2)*(s-self.side3))**0.5\n",
    "\n",
    "first_case= child(1,1,1)\n",
    "print(first_case.answer())\n",
    "second_case=child(3,4,5)\n",
    "print(second_case.answer())\n"
   ]
  },
  {
   "cell_type": "markdown",
   "metadata": {},
   "source": [
    "Task 2: Problem 1.2"
   ]
  },
  {
   "cell_type": "code",
   "execution_count": 11,
   "metadata": {
    "scrolled": true
   },
   "outputs": [
    {
     "name": "stdout",
     "output_type": "stream",
     "text": [
      "Enter comman sepearated list of wordsone,two,three,five,eleven,twentyfour\n",
      "Enter the mimimum length of words5\n",
      "['eleven', 'twentyfour']\n"
     ]
    }
   ],
   "source": [
    "\n",
    "#### THIS Program only filters the word whose length is strictly greater than entered length\n",
    "mylist= str(input(\"Enter comman sepearated list of words\")).split(',')\n",
    "length= int(input(\"Enter the mimimum length of words\"))\n",
    "filtered_list= list(filter(lambda x: True if len(x)>length else False,mylist))\n",
    "print(filtered_list)    \n",
    "    \n",
    "    "
   ]
  },
  {
   "cell_type": "markdown",
   "metadata": {},
   "source": [
    "Task2 : 2.1"
   ]
  },
  {
   "cell_type": "code",
   "execution_count": 13,
   "metadata": {},
   "outputs": [
    {
     "name": "stdout",
     "output_type": "stream",
     "text": [
      "Enter the comma seperated wordsobama,osama,bin,laden\n",
      "[5, 5, 3, 5]\n"
     ]
    }
   ],
   "source": [
    "words= input(\"Enter the comma seperated words\").split(',')\n",
    "\n",
    "new_words= list(map(lambda x: len(x),words))\n",
    "print(new_words)\n",
    "\n"
   ]
  },
  {
   "cell_type": "markdown",
   "metadata": {},
   "source": [
    "Task2:2.2\n"
   ]
  },
  {
   "cell_type": "code",
   "execution_count": 17,
   "metadata": {},
   "outputs": [
    {
     "name": "stdout",
     "output_type": "stream",
     "text": [
      "True\n",
      "False\n",
      "True\n",
      "False\n",
      "True\n",
      "True\n",
      "False\n"
     ]
    }
   ],
   "source": [
    "def isVowel(character):\n",
    "    if character in 'aeiouAEOIU':\n",
    "        return True\n",
    "    return False\n",
    "\n",
    "print(isVowel('a'))\n",
    "print(isVowel('f'))\n",
    "print(isVowel('u'))\n",
    "print(isVowel('x'))\n",
    "print(isVowel('I'))\n",
    "print(isVowel('a'))\n",
    "print(isVowel('Z'))\n",
    "\n",
    "\n"
   ]
  }
 ],
 "metadata": {
  "kernelspec": {
   "display_name": "Python 3",
   "language": "python",
   "name": "python3"
  },
  "language_info": {
   "codemirror_mode": {
    "name": "ipython",
    "version": 3
   },
   "file_extension": ".py",
   "mimetype": "text/x-python",
   "name": "python",
   "nbconvert_exporter": "python",
   "pygments_lexer": "ipython3",
   "version": "3.7.4"
  }
 },
 "nbformat": 4,
 "nbformat_minor": 2
}
